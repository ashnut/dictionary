{
 "cells": [
  {
   "cell_type": "code",
   "execution_count": null,
   "metadata": {},
   "outputs": [],
   "source": [
    "#word similarity library\n",
    "import difflib\n",
    "from difflib import get_close_matches\n",
    "#loading the json which holds the dataset\n",
    "import json\n",
    "data = json.load(open(\"data.json\"))\n",
    "\n",
    "#function for returning meaning of word\n",
    "def translate(word):\n",
    "    word = word.lower() #ignoring case sensitivity by converting to lower case\n",
    "    if word in data:\n",
    "        return data[word]\n",
    "    elif word.title() in data:\n",
    "        return data[word.title()]\n",
    "    elif word.upper() in data: #in case user enters words with all upper cases\n",
    "        return data[word.upper()]\n",
    "    elif len(get_close_matches(word, data.keys())) > 0: #check if the mispelled word is in the list which matches with our dataset\n",
    "        ans = input(\"Did you mean %s ? Enter Y for Yes and N for No \" % get_close_matches(word,data.keys())[0])\n",
    "        if(ans==\"Y\"):\n",
    "            return data[get_close_matches(word,data.keys())[0]]\n",
    "        elif(ans==\"N\"):\n",
    "            return(\"Please double check. Word not present.\")\n",
    "        else:\n",
    "            return(\"Please enter either Y or N!\")\n",
    "    else:\n",
    "        return \"Word not present\"\n",
    "\n",
    "word = input(\"Enter the word: \")\n",
    "output = translate(word)\n",
    "\n",
    "if type(output)==list: #convert the list object to string and then prints the output\n",
    "   for item in output:\n",
    "       print(item)\n",
    "else:\n",
    "   print(output)"
   ]
  },
  {
   "cell_type": "code",
   "execution_count": null,
   "metadata": {},
   "outputs": [],
   "source": []
  },
  {
   "cell_type": "code",
   "execution_count": null,
   "metadata": {},
   "outputs": [],
   "source": []
  },
  {
   "cell_type": "code",
   "execution_count": null,
   "metadata": {},
   "outputs": [],
   "source": []
  },
  {
   "cell_type": "code",
   "execution_count": null,
   "metadata": {},
   "outputs": [],
   "source": []
  },
  {
   "cell_type": "code",
   "execution_count": null,
   "metadata": {},
   "outputs": [],
   "source": []
  },
  {
   "cell_type": "code",
   "execution_count": null,
   "metadata": {},
   "outputs": [],
   "source": []
  },
  {
   "cell_type": "code",
   "execution_count": null,
   "metadata": {},
   "outputs": [],
   "source": []
  },
  {
   "cell_type": "code",
   "execution_count": null,
   "metadata": {},
   "outputs": [],
   "source": []
  }
 ],
 "metadata": {
  "kernelspec": {
   "display_name": "Python 3",
   "language": "python",
   "name": "python3"
  },
  "language_info": {
   "codemirror_mode": {
    "name": "ipython",
    "version": 3
   },
   "file_extension": ".py",
   "mimetype": "text/x-python",
   "name": "python",
   "nbconvert_exporter": "python",
   "pygments_lexer": "ipython3",
   "version": "3.6.5"
  }
 },
 "nbformat": 4,
 "nbformat_minor": 2
}
